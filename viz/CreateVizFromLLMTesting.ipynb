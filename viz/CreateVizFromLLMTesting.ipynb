{
 "cells": [
  {
   "cell_type": "markdown",
   "id": "bbc99d01-078e-422d-a505-6a05f2fce23c",
   "metadata": {},
   "source": [
    "# Create Needle In A Haystack Visualization\n",
    "\n",
    "Let's run through how to create the visualization for the Needle In A Hackstack Test.\n",
    "\n",
    "At a highlevel, it's a two step process\n",
    "1. Generate a pivot table based on the results\n",
    "2. Use that pivot table as the basis for Google Slides (or whatever design tool ou want) custom formatting.\n",
    "\n",
    "See the final [visualization](https://docs.google.com/presentation/d/15JEdEBjm32qBbqeYM6DK6G-3mUJd7FAJu-qEzj8IYLQ/edit?usp=sharing).\n",
    "See the [overview video](https://twitter.com/GregKamradt/status/1729573848893579488) for this code.\n",
    "\n",
    "Let's get started. "
   ]
  },
  {
   "cell_type": "code",
   "execution_count": 1,
   "id": "69dfbae3-2020-436d-8e6f-4b2c6e6f7135",
   "metadata": {},
   "outputs": [],
   "source": [
    "import pandas as pd\n",
    "import seaborn as sns\n",
    "import matplotlib.pyplot as plt\n",
    "from matplotlib.colors import LinearSegmentedColormap\n",
    "import pandas as pd\n",
    "import json\n",
    "import os\n",
    "import glob"
   ]
  },
  {
   "cell_type": "markdown",
   "id": "9321e1a4-a01d-4549-9ffd-b016b4e8ccf2",
   "metadata": {},
   "source": [
    "The assumption is that your individual test results will be saved to separate files. This is done to make concurrent requests easier.\n",
    "\n",
    "If that isn't the case, feel free to change up the loading process below. The end result we want is a table with three columns (one row per test)\n",
    "1. Context Length\n",
    "2. Document Depth\n",
    "3. Score Result\n",
    "\n",
    "Change the folder location for where your results are stored. I'll use the original results folder for this test\n",
    "\n",
    "## Load Data"
   ]
  },
  {
   "cell_type": "code",
   "execution_count": 2,
   "id": "c8db69cd-abbb-47be-b757-f1e0383007f0",
   "metadata": {},
   "outputs": [
    {
     "name": "stdout",
     "output_type": "stream",
     "text": [
      "   Document Depth  Context Length  Score\n",
      "0             0.0            1000     10\n",
      "1           100.0            1000     10\n",
      "2            10.0            1000     10\n",
      "3            20.0            1000     10\n",
      "4            30.0            1000     10\n",
      "You have 121 rows\n"
     ]
    }
   ],
   "source": [
    "# Path to the directory containing JSON results\n",
    "folder_path = '../original_results/recurrentgemma-9b-it/'  # Replace with your folder path\n",
    "\n",
    "# Using glob to find all json files in the directory\n",
    "json_files = glob.glob(f\"{folder_path}/*.json\")\n",
    "\n",
    "# List to hold the data\n",
    "data = []\n",
    "\n",
    "# Iterating through each file and extract the 3 columns we need\n",
    "for file in json_files:\n",
    "    with open(file, 'r') as f:\n",
    "        json_data = json.load(f)\n",
    "        # Extracting the required fields\n",
    "        document_depth = json_data.get(\"depth_percent\", None)\n",
    "        context_length = json_data.get(\"context_length\", None)\n",
    "        score = json_data.get(\"score\", None)\n",
    "        # Appending to the list\n",
    "        data.append({\n",
    "            \"Document Depth\": document_depth,\n",
    "            \"Context Length\": context_length,\n",
    "            \"Score\": score\n",
    "        })\n",
    "\n",
    "# Creating a DataFrame\n",
    "df = pd.DataFrame(data)\n",
    "\n",
    "print (df.head())\n",
    "print (f\"You have {len(df)} rows\")"
   ]
  },
  {
   "cell_type": "markdown",
   "id": "3b3c8567-6452-4557-bf79-b73ee2ace150",
   "metadata": {},
   "source": [
    "Then let's create a pivot table. If you just ran the test once, then this step isn't needed (but it can be done anyway). If you ran the rest multiple times then this will average out your scores."
   ]
  },
  {
   "cell_type": "markdown",
   "id": "8b81f85c-df25-4bf9-b23d-a1995ebe6f11",
   "metadata": {},
   "source": [
    "## Pivot Data"
   ]
  },
  {
   "cell_type": "code",
   "execution_count": 3,
   "id": "a784de41-f317-4dd4-a97f-a73c02f7039e",
   "metadata": {},
   "outputs": [
    {
     "data": {
      "text/html": [
       "<div>\n",
       "<style scoped>\n",
       "    .dataframe tbody tr th:only-of-type {\n",
       "        vertical-align: middle;\n",
       "    }\n",
       "\n",
       "    .dataframe tbody tr th {\n",
       "        vertical-align: top;\n",
       "    }\n",
       "\n",
       "    .dataframe thead th {\n",
       "        text-align: right;\n",
       "    }\n",
       "</style>\n",
       "<table border=\"1\" class=\"dataframe\">\n",
       "  <thead>\n",
       "    <tr style=\"text-align: right;\">\n",
       "      <th>Context Length</th>\n",
       "      <th>500</th>\n",
       "      <th>1000</th>\n",
       "      <th>2000</th>\n",
       "      <th>2048</th>\n",
       "      <th>3000</th>\n",
       "    </tr>\n",
       "    <tr>\n",
       "      <th>Document Depth</th>\n",
       "      <th></th>\n",
       "      <th></th>\n",
       "      <th></th>\n",
       "      <th></th>\n",
       "      <th></th>\n",
       "    </tr>\n",
       "  </thead>\n",
       "  <tbody>\n",
       "    <tr>\n",
       "      <th>0.0</th>\n",
       "      <td>10.0</td>\n",
       "      <td>10.0</td>\n",
       "      <td>10.0</td>\n",
       "      <td>7.0</td>\n",
       "      <td>1.0</td>\n",
       "    </tr>\n",
       "    <tr>\n",
       "      <th>10.0</th>\n",
       "      <td>7.0</td>\n",
       "      <td>10.0</td>\n",
       "      <td>10.0</td>\n",
       "      <td>10.0</td>\n",
       "      <td>5.0</td>\n",
       "    </tr>\n",
       "    <tr>\n",
       "      <th>20.0</th>\n",
       "      <td>10.0</td>\n",
       "      <td>10.0</td>\n",
       "      <td>10.0</td>\n",
       "      <td>10.0</td>\n",
       "      <td>3.0</td>\n",
       "    </tr>\n",
       "    <tr>\n",
       "      <th>30.0</th>\n",
       "      <td>10.0</td>\n",
       "      <td>10.0</td>\n",
       "      <td>10.0</td>\n",
       "      <td>10.0</td>\n",
       "      <td>7.0</td>\n",
       "    </tr>\n",
       "    <tr>\n",
       "      <th>40.0</th>\n",
       "      <td>10.0</td>\n",
       "      <td>10.0</td>\n",
       "      <td>10.0</td>\n",
       "      <td>10.0</td>\n",
       "      <td>10.0</td>\n",
       "    </tr>\n",
       "  </tbody>\n",
       "</table>\n",
       "</div>"
      ],
      "text/plain": [
       "Context Length  500   1000  2000  2048  3000\n",
       "Document Depth                              \n",
       "0.0             10.0  10.0  10.0   7.0   1.0\n",
       "10.0             7.0  10.0  10.0  10.0   5.0\n",
       "20.0            10.0  10.0  10.0  10.0   3.0\n",
       "30.0            10.0  10.0  10.0  10.0   7.0\n",
       "40.0            10.0  10.0  10.0  10.0  10.0"
      ]
     },
     "execution_count": 3,
     "metadata": {},
     "output_type": "execute_result"
    }
   ],
   "source": [
    "pivot_table = pd.pivot_table(df, values='Score', index=['Document Depth', 'Context Length'], aggfunc='mean').reset_index() # This will aggregate\n",
    "pivot_table = pivot_table.pivot(index=\"Document Depth\", columns=\"Context Length\", values=\"Score\") # This will turn into a proper pivot\n",
    "pivot_table.iloc[:5, :5]"
   ]
  },
  {
   "cell_type": "markdown",
   "id": "da837457-a886-47da-962b-d74cc6bea017",
   "metadata": {},
   "source": [
    "## Make Visualization"
   ]
  },
  {
   "cell_type": "code",
   "execution_count": 17,
   "id": "5a0ff1a1-e8fc-4e89-a08b-69ca8cfe3cfa",
   "metadata": {},
   "outputs": [
    {
     "data": {
      "image/png": "[encoded data removed]",
      "text/plain": [
       "<Figure size 800x400 with 2 Axes>"
      ]
     },
     "metadata": {},
     "output_type": "display_data"
    }
   ],
   "source": [
    "# Create a custom colormap. Go to https://coolors.co/ and pick cool colors\n",
    "# cmap = LinearSegmentedColormap.from_list(\"custom_cmap\", [\"#F0496E\", \"#EBB839\", \"#0CD79F\"])\n",
    "\n",
    "# Create the heatmap with better aesthetics\n",
    "plt.figure(figsize=(8, 4))  # Can adjust these dimensions as needed\n",
    "sns.heatmap(\n",
    "    pivot_table,\n",
    "    # annot=True,\n",
    "    fmt=\"g\",\n",
    "    # cmap=cmap,\n",
    "    cbar_kws={'label': 'score'}\n",
    "    \n",
    ")\n",
    "\n",
    "# More aesthetics\n",
    "plt.title('pressure testing recurrentgemma 9b-it\\nfact retrieval across ctx lengths (\"needle in a haystack\")', fontsize=10)\n",
    "plt.xlabel('token limit (= #tokens in the context)')  # X-axis label\n",
    "plt.ylabel('depth percent (= where the needle is placed)')  # Y-axis label\n",
    "plt.xticks(rotation=0)  # Rotates the x-axis labels to prevent overlap\n",
    "plt.yticks(rotation=0)  # Ensures the y-axis labels are horizontal\n",
    "plt.tight_layout()  # Fits everything neatly into the figure area\n",
    "\n",
    "# Show the plot\n",
    "plt.show()"
   ]
  },
  {
   "cell_type": "code",
   "execution_count": null,
   "id": "234bdbca-b727-4294-aa64-c4480a6e6ad6",
   "metadata": {},
   "outputs": [],
   "source": []
  }
 ],
 "metadata": {
  "kernelspec": {
   "display_name": "Python 3 (ipykernel)",
   "language": "python",
   "name": "python3"
  },
  "language_info": {
   "codemirror_mode": {
    "name": "ipython",
    "version": 3
   },
   "file_extension": ".py",
   "mimetype": "text/x-python",
   "name": "python",
   "nbconvert_exporter": "python",
   "pygments_lexer": "ipython3",
   "version": "3.11.7"
  }
 },
 "nbformat": 4,
 "nbformat_minor": 5
}
